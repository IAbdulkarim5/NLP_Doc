{
  "nbformat": 4,
  "nbformat_minor": 0,
  "metadata": {
    "colab": {
      "provenance": []
    },
    "kernelspec": {
      "name": "python3",
      "display_name": "Python 3"
    },
    "language_info": {
      "name": "python"
    }
  },
  "cells": [
    {
      "cell_type": "code",
      "execution_count": 1,
      "metadata": {
        "id": "YZvwOnZmTJq-"
      },
      "outputs": [],
      "source": [
        "import pandas as pd"
      ]
    },
    {
      "cell_type": "code",
      "source": [
        "!pip install farm-haystack\n",
        "\n",
        "from haystack.document_stores import InMemoryDocumentStore\n",
        "from haystack.nodes import TfidfRetriever,BM25Retriever\n",
        "import pandas as pd"
      ],
      "metadata": {
        "colab": {
          "base_uri": "https://localhost:8080/"
        },
        "id": "E8nz0OfdVSya",
        "outputId": "7aadafc5-5c7e-4c9d-83da-4a2db713532e"
      },
      "execution_count": 21,
      "outputs": [
        {
          "output_type": "stream",
          "name": "stdout",
          "text": [
            "Requirement already satisfied: farm-haystack in /usr/local/lib/python3.10/dist-packages (1.26.4)\n",
            "Requirement already satisfied: boilerpy3 in /usr/local/lib/python3.10/dist-packages (from farm-haystack) (1.0.7)\n",
            "Requirement already satisfied: events in /usr/local/lib/python3.10/dist-packages (from farm-haystack) (0.5)\n",
            "Requirement already satisfied: httpx in /usr/local/lib/python3.10/dist-packages (from farm-haystack) (0.28.1)\n",
            "Requirement already satisfied: jsonschema in /usr/local/lib/python3.10/dist-packages (from farm-haystack) (4.23.0)\n",
            "Requirement already satisfied: lazy-imports==0.3.1 in /usr/local/lib/python3.10/dist-packages (from farm-haystack) (0.3.1)\n",
            "Requirement already satisfied: more-itertools in /usr/local/lib/python3.10/dist-packages (from farm-haystack) (10.5.0)\n",
            "Requirement already satisfied: networkx in /usr/local/lib/python3.10/dist-packages (from farm-haystack) (3.4.2)\n",
            "Requirement already satisfied: pandas in /usr/local/lib/python3.10/dist-packages (from farm-haystack) (2.2.2)\n",
            "Requirement already satisfied: pillow in /usr/local/lib/python3.10/dist-packages (from farm-haystack) (11.0.0)\n",
            "Requirement already satisfied: platformdirs in /usr/local/lib/python3.10/dist-packages (from farm-haystack) (4.3.6)\n",
            "Requirement already satisfied: posthog in /usr/local/lib/python3.10/dist-packages (from farm-haystack) (3.7.4)\n",
            "Requirement already satisfied: prompthub-py==4.0.0 in /usr/local/lib/python3.10/dist-packages (from farm-haystack) (4.0.0)\n",
            "Requirement already satisfied: pydantic<2 in /usr/local/lib/python3.10/dist-packages (from farm-haystack) (1.10.19)\n",
            "Requirement already satisfied: quantulum3 in /usr/local/lib/python3.10/dist-packages (from farm-haystack) (0.9.2)\n",
            "Requirement already satisfied: rank-bm25 in /usr/local/lib/python3.10/dist-packages (from farm-haystack) (0.2.2)\n",
            "Requirement already satisfied: requests in /usr/local/lib/python3.10/dist-packages (from farm-haystack) (2.32.3)\n",
            "Requirement already satisfied: requests-cache<1.0.0 in /usr/local/lib/python3.10/dist-packages (from farm-haystack) (0.9.8)\n",
            "Requirement already satisfied: scikit-learn>=1.3.0 in /usr/local/lib/python3.10/dist-packages (from farm-haystack) (1.6.0)\n",
            "Requirement already satisfied: sseclient-py in /usr/local/lib/python3.10/dist-packages (from farm-haystack) (1.8.0)\n",
            "Requirement already satisfied: tenacity in /usr/local/lib/python3.10/dist-packages (from farm-haystack) (9.0.0)\n",
            "Requirement already satisfied: tiktoken>=0.5.1 in /usr/local/lib/python3.10/dist-packages (from farm-haystack) (0.8.0)\n",
            "Requirement already satisfied: tqdm in /usr/local/lib/python3.10/dist-packages (from farm-haystack) (4.67.1)\n",
            "Requirement already satisfied: transformers<5.0,>=4.46 in /usr/local/lib/python3.10/dist-packages (from farm-haystack) (4.47.1)\n",
            "Requirement already satisfied: pyyaml<7.0,>=6.0 in /usr/local/lib/python3.10/dist-packages (from prompthub-py==4.0.0->farm-haystack) (6.0.2)\n",
            "Requirement already satisfied: typing-extensions>=4.2.0 in /usr/local/lib/python3.10/dist-packages (from pydantic<2->farm-haystack) (4.12.2)\n",
            "Requirement already satisfied: charset-normalizer<4,>=2 in /usr/local/lib/python3.10/dist-packages (from requests->farm-haystack) (3.4.0)\n",
            "Requirement already satisfied: idna<4,>=2.5 in /usr/local/lib/python3.10/dist-packages (from requests->farm-haystack) (3.10)\n",
            "Requirement already satisfied: urllib3<3,>=1.21.1 in /usr/local/lib/python3.10/dist-packages (from requests->farm-haystack) (2.2.3)\n",
            "Requirement already satisfied: certifi>=2017.4.17 in /usr/local/lib/python3.10/dist-packages (from requests->farm-haystack) (2024.12.14)\n",
            "Requirement already satisfied: appdirs>=1.4.4 in /usr/local/lib/python3.10/dist-packages (from requests-cache<1.0.0->farm-haystack) (1.4.4)\n",
            "Requirement already satisfied: attrs>=21.2 in /usr/local/lib/python3.10/dist-packages (from requests-cache<1.0.0->farm-haystack) (24.3.0)\n",
            "Requirement already satisfied: cattrs>=22.2 in /usr/local/lib/python3.10/dist-packages (from requests-cache<1.0.0->farm-haystack) (24.1.2)\n",
            "Requirement already satisfied: url-normalize>=1.4 in /usr/local/lib/python3.10/dist-packages (from requests-cache<1.0.0->farm-haystack) (1.4.3)\n",
            "Requirement already satisfied: numpy>=1.19.5 in /usr/local/lib/python3.10/dist-packages (from scikit-learn>=1.3.0->farm-haystack) (1.26.4)\n",
            "Requirement already satisfied: scipy>=1.6.0 in /usr/local/lib/python3.10/dist-packages (from scikit-learn>=1.3.0->farm-haystack) (1.13.1)\n",
            "Requirement already satisfied: joblib>=1.2.0 in /usr/local/lib/python3.10/dist-packages (from scikit-learn>=1.3.0->farm-haystack) (1.4.2)\n",
            "Requirement already satisfied: threadpoolctl>=3.1.0 in /usr/local/lib/python3.10/dist-packages (from scikit-learn>=1.3.0->farm-haystack) (3.5.0)\n",
            "Requirement already satisfied: regex>=2022.1.18 in /usr/local/lib/python3.10/dist-packages (from tiktoken>=0.5.1->farm-haystack) (2024.11.6)\n",
            "Requirement already satisfied: filelock in /usr/local/lib/python3.10/dist-packages (from transformers<5.0,>=4.46->farm-haystack) (3.16.1)\n",
            "Requirement already satisfied: huggingface-hub<1.0,>=0.24.0 in /usr/local/lib/python3.10/dist-packages (from transformers<5.0,>=4.46->farm-haystack) (0.27.0)\n",
            "Requirement already satisfied: packaging>=20.0 in /usr/local/lib/python3.10/dist-packages (from transformers<5.0,>=4.46->farm-haystack) (24.2)\n",
            "Requirement already satisfied: tokenizers<0.22,>=0.21 in /usr/local/lib/python3.10/dist-packages (from transformers<5.0,>=4.46->farm-haystack) (0.21.0)\n",
            "Requirement already satisfied: safetensors>=0.4.1 in /usr/local/lib/python3.10/dist-packages (from transformers<5.0,>=4.46->farm-haystack) (0.4.5)\n",
            "Requirement already satisfied: anyio in /usr/local/lib/python3.10/dist-packages (from httpx->farm-haystack) (3.7.1)\n",
            "Requirement already satisfied: httpcore==1.* in /usr/local/lib/python3.10/dist-packages (from httpx->farm-haystack) (1.0.7)\n",
            "Requirement already satisfied: h11<0.15,>=0.13 in /usr/local/lib/python3.10/dist-packages (from httpcore==1.*->httpx->farm-haystack) (0.14.0)\n",
            "Requirement already satisfied: jsonschema-specifications>=2023.03.6 in /usr/local/lib/python3.10/dist-packages (from jsonschema->farm-haystack) (2024.10.1)\n",
            "Requirement already satisfied: referencing>=0.28.4 in /usr/local/lib/python3.10/dist-packages (from jsonschema->farm-haystack) (0.35.1)\n",
            "Requirement already satisfied: rpds-py>=0.7.1 in /usr/local/lib/python3.10/dist-packages (from jsonschema->farm-haystack) (0.22.3)\n",
            "Requirement already satisfied: python-dateutil>=2.8.2 in /usr/local/lib/python3.10/dist-packages (from pandas->farm-haystack) (2.8.2)\n",
            "Requirement already satisfied: pytz>=2020.1 in /usr/local/lib/python3.10/dist-packages (from pandas->farm-haystack) (2024.2)\n",
            "Requirement already satisfied: tzdata>=2022.7 in /usr/local/lib/python3.10/dist-packages (from pandas->farm-haystack) (2024.2)\n",
            "Requirement already satisfied: six>=1.5 in /usr/local/lib/python3.10/dist-packages (from posthog->farm-haystack) (1.17.0)\n",
            "Requirement already satisfied: monotonic>=1.5 in /usr/local/lib/python3.10/dist-packages (from posthog->farm-haystack) (1.6)\n",
            "Requirement already satisfied: backoff>=1.10.0 in /usr/local/lib/python3.10/dist-packages (from posthog->farm-haystack) (2.2.1)\n",
            "Requirement already satisfied: inflect in /usr/local/lib/python3.10/dist-packages (from quantulum3->farm-haystack) (7.4.0)\n",
            "Requirement already satisfied: num2words in /usr/local/lib/python3.10/dist-packages (from quantulum3->farm-haystack) (0.5.14)\n",
            "Requirement already satisfied: exceptiongroup>=1.1.1 in /usr/local/lib/python3.10/dist-packages (from cattrs>=22.2->requests-cache<1.0.0->farm-haystack) (1.2.2)\n",
            "Requirement already satisfied: fsspec>=2023.5.0 in /usr/local/lib/python3.10/dist-packages (from huggingface-hub<1.0,>=0.24.0->transformers<5.0,>=4.46->farm-haystack) (2024.10.0)\n",
            "Requirement already satisfied: sniffio>=1.1 in /usr/local/lib/python3.10/dist-packages (from anyio->httpx->farm-haystack) (1.3.1)\n",
            "Requirement already satisfied: typeguard>=4.0.1 in /usr/local/lib/python3.10/dist-packages (from inflect->quantulum3->farm-haystack) (4.4.1)\n",
            "Requirement already satisfied: docopt>=0.6.2 in /usr/local/lib/python3.10/dist-packages (from num2words->quantulum3->farm-haystack) (0.6.2)\n"
          ]
        }
      ]
    },
    {
      "cell_type": "code",
      "source": [
        "data = pd.read_csv('/content/pif_companies_filtered.csv')"
      ],
      "metadata": {
        "id": "KJ4ogxQJTVRn"
      },
      "execution_count": 2,
      "outputs": []
    },
    {
      "cell_type": "code",
      "source": [
        "data.info()"
      ],
      "metadata": {
        "colab": {
          "base_uri": "https://localhost:8080/"
        },
        "id": "QJjn7-hhTaxK",
        "outputId": "6be2fba6-cbed-4b58-aea3-0380587730d0"
      },
      "execution_count": 3,
      "outputs": [
        {
          "output_type": "stream",
          "name": "stdout",
          "text": [
            "<class 'pandas.core.frame.DataFrame'>\n",
            "RangeIndex: 97 entries, 0 to 96\n",
            "Data columns (total 2 columns):\n",
            " #   Column       Non-Null Count  Dtype \n",
            "---  ------       --------------  ----- \n",
            " 0   Title        97 non-null     object\n",
            " 1   Description  97 non-null     object\n",
            "dtypes: object(2)\n",
            "memory usage: 1.6+ KB\n"
          ]
        }
      ]
    },
    {
      "cell_type": "markdown",
      "source": [
        "# using TfidfVectorizer from sklearn\n"
      ],
      "metadata": {
        "id": "f5bWGCQUWyEW"
      }
    },
    {
      "cell_type": "code",
      "source": [
        "import pandas as pd\n",
        "from sklearn.feature_extraction.text import TfidfVectorizer\n",
        "import numpy as np\n",
        "\n",
        "data['Description'].fillna('', inplace=True)\n",
        "data['Description'] = data['Description'].str.lower()\n",
        "\n",
        "vectorizer = TfidfVectorizer()\n",
        "tfidf_matrix = vectorizer.fit_transform(data['Description'])\n",
        "\n",
        "def search_companies(query, top_n=5):\n",
        "  query_vec = vectorizer.transform([query.lower()]) # query to lower case\n",
        "  similarity_scores = np.dot(query_vec, tfidf_matrix.T).toarray()[0]\n",
        "  top_indices = np.argsort(similarity_scores)[::-1][:top_n]\n",
        "  results = data.iloc[top_indices]\n",
        "  results['similarity_score'] = similarity_scores[top_indices]\n",
        "  return results\n",
        "\n",
        "\n",
        "search_results = search_companies(\"what is tic\", top_n=3)\n",
        "search_results"
      ],
      "metadata": {
        "colab": {
          "base_uri": "https://localhost:8080/",
          "height": 389
        },
        "id": "E-W-q5pJTfnE",
        "outputId": "27812956-b9d1-4b4e-c9de-9cba9c4aefc5"
      },
      "execution_count": 18,
      "outputs": [
        {
          "output_type": "stream",
          "name": "stderr",
          "text": [
            "<ipython-input-18-e9d33046d719>:5: FutureWarning: A value is trying to be set on a copy of a DataFrame or Series through chained assignment using an inplace method.\n",
            "The behavior will change in pandas 3.0. This inplace method will never work because the intermediate object on which we are setting values always behaves as a copy.\n",
            "\n",
            "For example, when doing 'df[col].method(value, inplace=True)', try using 'df.method({col: value}, inplace=True)' or df[col] = df[col].method(value) instead, to perform the operation inplace on the original object.\n",
            "\n",
            "\n",
            "  data['Description'].fillna('', inplace=True)\n",
            "<ipython-input-18-e9d33046d719>:16: SettingWithCopyWarning: \n",
            "A value is trying to be set on a copy of a slice from a DataFrame.\n",
            "Try using .loc[row_indexer,col_indexer] = value instead\n",
            "\n",
            "See the caveats in the documentation: https://pandas.pydata.org/pandas-docs/stable/user_guide/indexing.html#returning-a-view-versus-a-copy\n",
            "  results['similarity_score'] = similarity_scores[top_indices]\n"
          ]
        },
        {
          "output_type": "execute_result",
          "data": {
            "text/plain": [
              "                                Title  \\\n",
              "41  Tahakom Investments Company (TIC)   \n",
              "6                             Kayanee   \n",
              "74    Saudi Electricity Company (SEC)   \n",
              "\n",
              "                                          Description  similarity_score  \n",
              "41  tic is a holding company that owns several sub...          0.325280  \n",
              "6   kayanee is a public investment fund (pif) comp...          0.179599  \n",
              "74  incorporated in accordance with council of min...          0.097491  "
            ],
            "text/html": [
              "\n",
              "  <div id=\"df-0a532ae3-65db-4e92-a014-4860a2f735d3\" class=\"colab-df-container\">\n",
              "    <div>\n",
              "<style scoped>\n",
              "    .dataframe tbody tr th:only-of-type {\n",
              "        vertical-align: middle;\n",
              "    }\n",
              "\n",
              "    .dataframe tbody tr th {\n",
              "        vertical-align: top;\n",
              "    }\n",
              "\n",
              "    .dataframe thead th {\n",
              "        text-align: right;\n",
              "    }\n",
              "</style>\n",
              "<table border=\"1\" class=\"dataframe\">\n",
              "  <thead>\n",
              "    <tr style=\"text-align: right;\">\n",
              "      <th></th>\n",
              "      <th>Title</th>\n",
              "      <th>Description</th>\n",
              "      <th>similarity_score</th>\n",
              "    </tr>\n",
              "  </thead>\n",
              "  <tbody>\n",
              "    <tr>\n",
              "      <th>41</th>\n",
              "      <td>Tahakom Investments Company (TIC)</td>\n",
              "      <td>tic is a holding company that owns several sub...</td>\n",
              "      <td>0.325280</td>\n",
              "    </tr>\n",
              "    <tr>\n",
              "      <th>6</th>\n",
              "      <td>Kayanee</td>\n",
              "      <td>kayanee is a public investment fund (pif) comp...</td>\n",
              "      <td>0.179599</td>\n",
              "    </tr>\n",
              "    <tr>\n",
              "      <th>74</th>\n",
              "      <td>Saudi Electricity Company (SEC)</td>\n",
              "      <td>incorporated in accordance with council of min...</td>\n",
              "      <td>0.097491</td>\n",
              "    </tr>\n",
              "  </tbody>\n",
              "</table>\n",
              "</div>\n",
              "    <div class=\"colab-df-buttons\">\n",
              "\n",
              "  <div class=\"colab-df-container\">\n",
              "    <button class=\"colab-df-convert\" onclick=\"convertToInteractive('df-0a532ae3-65db-4e92-a014-4860a2f735d3')\"\n",
              "            title=\"Convert this dataframe to an interactive table.\"\n",
              "            style=\"display:none;\">\n",
              "\n",
              "  <svg xmlns=\"http://www.w3.org/2000/svg\" height=\"24px\" viewBox=\"0 -960 960 960\">\n",
              "    <path d=\"M120-120v-720h720v720H120Zm60-500h600v-160H180v160Zm220 220h160v-160H400v160Zm0 220h160v-160H400v160ZM180-400h160v-160H180v160Zm440 0h160v-160H620v160ZM180-180h160v-160H180v160Zm440 0h160v-160H620v160Z\"/>\n",
              "  </svg>\n",
              "    </button>\n",
              "\n",
              "  <style>\n",
              "    .colab-df-container {\n",
              "      display:flex;\n",
              "      gap: 12px;\n",
              "    }\n",
              "\n",
              "    .colab-df-convert {\n",
              "      background-color: #E8F0FE;\n",
              "      border: none;\n",
              "      border-radius: 50%;\n",
              "      cursor: pointer;\n",
              "      display: none;\n",
              "      fill: #1967D2;\n",
              "      height: 32px;\n",
              "      padding: 0 0 0 0;\n",
              "      width: 32px;\n",
              "    }\n",
              "\n",
              "    .colab-df-convert:hover {\n",
              "      background-color: #E2EBFA;\n",
              "      box-shadow: 0px 1px 2px rgba(60, 64, 67, 0.3), 0px 1px 3px 1px rgba(60, 64, 67, 0.15);\n",
              "      fill: #174EA6;\n",
              "    }\n",
              "\n",
              "    .colab-df-buttons div {\n",
              "      margin-bottom: 4px;\n",
              "    }\n",
              "\n",
              "    [theme=dark] .colab-df-convert {\n",
              "      background-color: #3B4455;\n",
              "      fill: #D2E3FC;\n",
              "    }\n",
              "\n",
              "    [theme=dark] .colab-df-convert:hover {\n",
              "      background-color: #434B5C;\n",
              "      box-shadow: 0px 1px 3px 1px rgba(0, 0, 0, 0.15);\n",
              "      filter: drop-shadow(0px 1px 2px rgba(0, 0, 0, 0.3));\n",
              "      fill: #FFFFFF;\n",
              "    }\n",
              "  </style>\n",
              "\n",
              "    <script>\n",
              "      const buttonEl =\n",
              "        document.querySelector('#df-0a532ae3-65db-4e92-a014-4860a2f735d3 button.colab-df-convert');\n",
              "      buttonEl.style.display =\n",
              "        google.colab.kernel.accessAllowed ? 'block' : 'none';\n",
              "\n",
              "      async function convertToInteractive(key) {\n",
              "        const element = document.querySelector('#df-0a532ae3-65db-4e92-a014-4860a2f735d3');\n",
              "        const dataTable =\n",
              "          await google.colab.kernel.invokeFunction('convertToInteractive',\n",
              "                                                    [key], {});\n",
              "        if (!dataTable) return;\n",
              "\n",
              "        const docLinkHtml = 'Like what you see? Visit the ' +\n",
              "          '<a target=\"_blank\" href=https://colab.research.google.com/notebooks/data_table.ipynb>data table notebook</a>'\n",
              "          + ' to learn more about interactive tables.';\n",
              "        element.innerHTML = '';\n",
              "        dataTable['output_type'] = 'display_data';\n",
              "        await google.colab.output.renderOutput(dataTable, element);\n",
              "        const docLink = document.createElement('div');\n",
              "        docLink.innerHTML = docLinkHtml;\n",
              "        element.appendChild(docLink);\n",
              "      }\n",
              "    </script>\n",
              "  </div>\n",
              "\n",
              "\n",
              "<div id=\"df-ef232992-9107-4c65-9df5-bff4cf88999f\">\n",
              "  <button class=\"colab-df-quickchart\" onclick=\"quickchart('df-ef232992-9107-4c65-9df5-bff4cf88999f')\"\n",
              "            title=\"Suggest charts\"\n",
              "            style=\"display:none;\">\n",
              "\n",
              "<svg xmlns=\"http://www.w3.org/2000/svg\" height=\"24px\"viewBox=\"0 0 24 24\"\n",
              "     width=\"24px\">\n",
              "    <g>\n",
              "        <path d=\"M19 3H5c-1.1 0-2 .9-2 2v14c0 1.1.9 2 2 2h14c1.1 0 2-.9 2-2V5c0-1.1-.9-2-2-2zM9 17H7v-7h2v7zm4 0h-2V7h2v10zm4 0h-2v-4h2v4z\"/>\n",
              "    </g>\n",
              "</svg>\n",
              "  </button>\n",
              "\n",
              "<style>\n",
              "  .colab-df-quickchart {\n",
              "      --bg-color: #E8F0FE;\n",
              "      --fill-color: #1967D2;\n",
              "      --hover-bg-color: #E2EBFA;\n",
              "      --hover-fill-color: #174EA6;\n",
              "      --disabled-fill-color: #AAA;\n",
              "      --disabled-bg-color: #DDD;\n",
              "  }\n",
              "\n",
              "  [theme=dark] .colab-df-quickchart {\n",
              "      --bg-color: #3B4455;\n",
              "      --fill-color: #D2E3FC;\n",
              "      --hover-bg-color: #434B5C;\n",
              "      --hover-fill-color: #FFFFFF;\n",
              "      --disabled-bg-color: #3B4455;\n",
              "      --disabled-fill-color: #666;\n",
              "  }\n",
              "\n",
              "  .colab-df-quickchart {\n",
              "    background-color: var(--bg-color);\n",
              "    border: none;\n",
              "    border-radius: 50%;\n",
              "    cursor: pointer;\n",
              "    display: none;\n",
              "    fill: var(--fill-color);\n",
              "    height: 32px;\n",
              "    padding: 0;\n",
              "    width: 32px;\n",
              "  }\n",
              "\n",
              "  .colab-df-quickchart:hover {\n",
              "    background-color: var(--hover-bg-color);\n",
              "    box-shadow: 0 1px 2px rgba(60, 64, 67, 0.3), 0 1px 3px 1px rgba(60, 64, 67, 0.15);\n",
              "    fill: var(--button-hover-fill-color);\n",
              "  }\n",
              "\n",
              "  .colab-df-quickchart-complete:disabled,\n",
              "  .colab-df-quickchart-complete:disabled:hover {\n",
              "    background-color: var(--disabled-bg-color);\n",
              "    fill: var(--disabled-fill-color);\n",
              "    box-shadow: none;\n",
              "  }\n",
              "\n",
              "  .colab-df-spinner {\n",
              "    border: 2px solid var(--fill-color);\n",
              "    border-color: transparent;\n",
              "    border-bottom-color: var(--fill-color);\n",
              "    animation:\n",
              "      spin 1s steps(1) infinite;\n",
              "  }\n",
              "\n",
              "  @keyframes spin {\n",
              "    0% {\n",
              "      border-color: transparent;\n",
              "      border-bottom-color: var(--fill-color);\n",
              "      border-left-color: var(--fill-color);\n",
              "    }\n",
              "    20% {\n",
              "      border-color: transparent;\n",
              "      border-left-color: var(--fill-color);\n",
              "      border-top-color: var(--fill-color);\n",
              "    }\n",
              "    30% {\n",
              "      border-color: transparent;\n",
              "      border-left-color: var(--fill-color);\n",
              "      border-top-color: var(--fill-color);\n",
              "      border-right-color: var(--fill-color);\n",
              "    }\n",
              "    40% {\n",
              "      border-color: transparent;\n",
              "      border-right-color: var(--fill-color);\n",
              "      border-top-color: var(--fill-color);\n",
              "    }\n",
              "    60% {\n",
              "      border-color: transparent;\n",
              "      border-right-color: var(--fill-color);\n",
              "    }\n",
              "    80% {\n",
              "      border-color: transparent;\n",
              "      border-right-color: var(--fill-color);\n",
              "      border-bottom-color: var(--fill-color);\n",
              "    }\n",
              "    90% {\n",
              "      border-color: transparent;\n",
              "      border-bottom-color: var(--fill-color);\n",
              "    }\n",
              "  }\n",
              "</style>\n",
              "\n",
              "  <script>\n",
              "    async function quickchart(key) {\n",
              "      const quickchartButtonEl =\n",
              "        document.querySelector('#' + key + ' button');\n",
              "      quickchartButtonEl.disabled = true;  // To prevent multiple clicks.\n",
              "      quickchartButtonEl.classList.add('colab-df-spinner');\n",
              "      try {\n",
              "        const charts = await google.colab.kernel.invokeFunction(\n",
              "            'suggestCharts', [key], {});\n",
              "      } catch (error) {\n",
              "        console.error('Error during call to suggestCharts:', error);\n",
              "      }\n",
              "      quickchartButtonEl.classList.remove('colab-df-spinner');\n",
              "      quickchartButtonEl.classList.add('colab-df-quickchart-complete');\n",
              "    }\n",
              "    (() => {\n",
              "      let quickchartButtonEl =\n",
              "        document.querySelector('#df-ef232992-9107-4c65-9df5-bff4cf88999f button');\n",
              "      quickchartButtonEl.style.display =\n",
              "        google.colab.kernel.accessAllowed ? 'block' : 'none';\n",
              "    })();\n",
              "  </script>\n",
              "</div>\n",
              "\n",
              "  <div id=\"id_9e1fc861-cae0-4f14-84ce-6d7ee2303eb7\">\n",
              "    <style>\n",
              "      .colab-df-generate {\n",
              "        background-color: #E8F0FE;\n",
              "        border: none;\n",
              "        border-radius: 50%;\n",
              "        cursor: pointer;\n",
              "        display: none;\n",
              "        fill: #1967D2;\n",
              "        height: 32px;\n",
              "        padding: 0 0 0 0;\n",
              "        width: 32px;\n",
              "      }\n",
              "\n",
              "      .colab-df-generate:hover {\n",
              "        background-color: #E2EBFA;\n",
              "        box-shadow: 0px 1px 2px rgba(60, 64, 67, 0.3), 0px 1px 3px 1px rgba(60, 64, 67, 0.15);\n",
              "        fill: #174EA6;\n",
              "      }\n",
              "\n",
              "      [theme=dark] .colab-df-generate {\n",
              "        background-color: #3B4455;\n",
              "        fill: #D2E3FC;\n",
              "      }\n",
              "\n",
              "      [theme=dark] .colab-df-generate:hover {\n",
              "        background-color: #434B5C;\n",
              "        box-shadow: 0px 1px 3px 1px rgba(0, 0, 0, 0.15);\n",
              "        filter: drop-shadow(0px 1px 2px rgba(0, 0, 0, 0.3));\n",
              "        fill: #FFFFFF;\n",
              "      }\n",
              "    </style>\n",
              "    <button class=\"colab-df-generate\" onclick=\"generateWithVariable('search_results')\"\n",
              "            title=\"Generate code using this dataframe.\"\n",
              "            style=\"display:none;\">\n",
              "\n",
              "  <svg xmlns=\"http://www.w3.org/2000/svg\" height=\"24px\"viewBox=\"0 0 24 24\"\n",
              "       width=\"24px\">\n",
              "    <path d=\"M7,19H8.4L18.45,9,17,7.55,7,17.6ZM5,21V16.75L18.45,3.32a2,2,0,0,1,2.83,0l1.4,1.43a1.91,1.91,0,0,1,.58,1.4,1.91,1.91,0,0,1-.58,1.4L9.25,21ZM18.45,9,17,7.55Zm-12,3A5.31,5.31,0,0,0,4.9,8.1,5.31,5.31,0,0,0,1,6.5,5.31,5.31,0,0,0,4.9,4.9,5.31,5.31,0,0,0,6.5,1,5.31,5.31,0,0,0,8.1,4.9,5.31,5.31,0,0,0,12,6.5,5.46,5.46,0,0,0,6.5,12Z\"/>\n",
              "  </svg>\n",
              "    </button>\n",
              "    <script>\n",
              "      (() => {\n",
              "      const buttonEl =\n",
              "        document.querySelector('#id_9e1fc861-cae0-4f14-84ce-6d7ee2303eb7 button.colab-df-generate');\n",
              "      buttonEl.style.display =\n",
              "        google.colab.kernel.accessAllowed ? 'block' : 'none';\n",
              "\n",
              "      buttonEl.onclick = () => {\n",
              "        google.colab.notebook.generateWithVariable('search_results');\n",
              "      }\n",
              "      })();\n",
              "    </script>\n",
              "  </div>\n",
              "\n",
              "    </div>\n",
              "  </div>\n"
            ],
            "application/vnd.google.colaboratory.intrinsic+json": {
              "type": "dataframe",
              "variable_name": "search_results",
              "summary": "{\n  \"name\": \"search_results\",\n  \"rows\": 3,\n  \"fields\": [\n    {\n      \"column\": \"Title\",\n      \"properties\": {\n        \"dtype\": \"string\",\n        \"num_unique_values\": 3,\n        \"samples\": [\n          \"Tahakom Investments Company (TIC)\",\n          \"Kayanee\",\n          \"Saudi Electricity Company (SEC)\"\n        ],\n        \"semantic_type\": \"\",\n        \"description\": \"\"\n      }\n    },\n    {\n      \"column\": \"Description\",\n      \"properties\": {\n        \"dtype\": \"string\",\n        \"num_unique_values\": 3,\n        \"samples\": [\n          \"tic is a holding company that owns several subsidiaries operating in different sectors including: private aviation, information technology, traffic management, security industries, manpower outsourcing, travel and visas services, and real estate. tic was established in 2018, but its subsidiaries were established between 2008 and 2019. tic portfolio companies include some of the leading companies both domestically and regionally especially in the priviate aviation, iformation technology and traffic managment sectors.\",\n          \"kayanee is a public investment fund (pif) company that aims to provide inspiring experiences for women that promote a balanced lifestyle and enhance the values of purposeful performance and fitness through six curated business units - move, wear, restore, thrive, nourish, and learn.kayanee offers a unique first experience that helps women find the balance between what the mind demands and what the body needs.\",\n          \"incorporated in accordance with council of ministers mandate no. 169 dated november 30th, 1998, the saudi electricity company was born out of the merger of smaller regional power company in the central, eastern, western and southern regions, as well as 10 small companies in the north of the kingdom run by what was formerly known as the general electricity company.\"\n        ],\n        \"semantic_type\": \"\",\n        \"description\": \"\"\n      }\n    },\n    {\n      \"column\": \"similarity_score\",\n      \"properties\": {\n        \"dtype\": \"number\",\n        \"std\": 0.1153635683488223,\n        \"min\": 0.09749103132998013,\n        \"max\": 0.3252800492666469,\n        \"num_unique_values\": 3,\n        \"samples\": [\n          0.3252800492666469,\n          0.17959904651389505,\n          0.09749103132998013\n        ],\n        \"semantic_type\": \"\",\n        \"description\": \"\"\n      }\n    }\n  ]\n}"
            }
          },
          "metadata": {},
          "execution_count": 18
        }
      ]
    },
    {
      "cell_type": "markdown",
      "source": [
        "# using TfidfRetriever from Haystack\n"
      ],
      "metadata": {
        "id": "Pmxx4gVnW610"
      }
    },
    {
      "cell_type": "code",
      "source": [
        "documents = []\n",
        "for index, row in data.iterrows():\n",
        "    documents.append({\"content\": row[\"Description\"], \"meta\": {\"company_name\": row[\"Title\"], \"id\": index}})\n",
        "\n",
        "document_store = InMemoryDocumentStore(use_bm25=True)\n",
        "\n",
        "document_store.write_documents(documents)"
      ],
      "metadata": {
        "id": "m2gd1Wf1akGA"
      },
      "execution_count": null,
      "outputs": []
    },
    {
      "cell_type": "code",
      "source": [
        "retriever = TfidfRetriever (document_store=document_store)"
      ],
      "metadata": {
        "id": "ZcHaezZHatuQ"
      },
      "execution_count": 33,
      "outputs": []
    },
    {
      "cell_type": "code",
      "source": [
        "def search_companies_haystack(query, top_n=3):\n",
        "    results = retriever.retrieve(query=query, top_k=top_n)\n",
        "    return results\n",
        "\n",
        "search_results = search_companies_haystack(\"when was riyadh air lunched?\", top_n=3)\n",
        "search_results"
      ],
      "metadata": {
        "colab": {
          "base_uri": "https://localhost:8080/"
        },
        "id": "4sjgcSZ_UnoF",
        "outputId": "7d5d8ad5-5d80-4abd-a376-f20e60cf182e"
      },
      "execution_count": 34,
      "outputs": [
        {
          "output_type": "execute_result",
          "data": {
            "text/plain": [
              "[<Document: {'content': 'riyadh air is a world-class airline owned by the public investment fund (pif). launched in march 2023 and hubbed in the capital of the kingdom, the airline will be a digitally-led, full service airline that adopts the best global sustainability and safety practices across its advanced fleet of aircraft. riyadh air will equip its aircrafts with the most advanced, state-of-the-art features with innovative, best-in-class cabin interiors and experiences, including next generation digital in-flight entertainment systems and connectivity solutions. riyadh air will connect guests to over 100 destinations around the world by 2030 through offering an exceptional guest experience with an authentic, warm saudi hospitality at its heart.', 'content_type': 'text', 'score': None, 'meta': {'company_name': 'Riyadh Air', 'id': 12}, 'id_hash_keys': ['content'], 'embedding': None, 'id': '6fa8db4ccee9332a67808a7178293cd8'}>,\n",
              " <Document: {'content': 'when it comes to offering, seven has handpicked its most recognizable global partners to build bespoke a world-class entertainment infrastructure in the kingdom. the new entertainment eco-system developed by seven will include 21 entertainment destinations located across 14 cities, supporting pif’s strategy to develop the local entertainment and tourism sectors.', 'content_type': 'text', 'score': None, 'meta': {'company_name': 'Saudi Entertainment Ventures (Seven)', 'id': 44}, 'id_hash_keys': ['content'], 'embedding': None, 'id': '78832e456bd155cedaa48df1e93c9347'}>,\n",
              " <Document: {'content': \"boutique group, a hospitality company fully owned by the public investment fund (pif), develops and operates historic & cultural palaces into ultra-luxury boutique hotels; to enrich the luxury hospitality experience in the kingdome. boutique group promotes saudi arabian heritage and culture through redefining the saudi legacy alluring and unique experiences for the global and local tourist, while preserving its heritage for future generations to come. in its core, boutique group delivers a unique ultra-luxury saudi experience through presenting saudi heritage in contemporary elegance, contributing in local economy and enhancing the kingdom's position as a leading cultural tourism destination.\\nboutique group’s core offering features several distinctive elements promoting saudi arabian culture and history and conveying a luxury experience. noteworthy aspects of the experience include the arrival, when guests are dropped off at the beautifully designed porte-cochère (traditional grand entrance) that reflects local architectural styles. throughout each property, critical historical elements of the building have been carefully preserved such as art galleries, stately civic spaces and peaceful gardens. dedicated butlers and protocol officers assigned to each guest ensure a personalized service. in addition to fine dining offerings featuring saudi arabian and regional- specific cuisine; each palace provides cultural and exhibition spaces, a boulevard gallery and green spaces decorated with art, sculptures and fountains. guests can enjoy an exclusive membership club, with access to bespoke services and restricted areas.\\nal hamra palace was built in the center of jeddah upon king faisal’s request in 1971 to transform it into a hospitality palace to host the kingdom’s guests. surveying the city’s corniche, the palace pays eloquent tribute to traditional arabic-islamic architecture with richly adorned arched gateways, slanted roofs with aqua-green tiles, and a striking façade crafted from riyadh stone.\\nthe red palace is located in the heart of old riyadh. it was the first building to be constructed of reinforced concrete. it got its name because of its unique reddish color. in 1957, it became the headquarters of the council of ministers for 30 years. the palace then became the headquarters of the board of grievances until 2002.\\nthe history of tuwaiq palace is interwoven with state receptions and festivals celebrating arts and culture, due to its strategic location in the diplomatic quarter (dq) in riyadh, on approximately 110,000 sqm of land area. the palace was awarded the prestigious aga khan award for its unique design that embraces the spirit of an oasis, blending in with its surrounding landscape.\", 'content_type': 'text', 'score': None, 'meta': {'company_name': 'BOUTIQUE GROUP', 'id': 23}, 'id_hash_keys': ['content'], 'embedding': None, 'id': 'd5fcacd24be266c0ed56b13ce603e73c'}>]"
            ]
          },
          "metadata": {},
          "execution_count": 34
        }
      ]
    },
    {
      "cell_type": "code",
      "source": [
        "search_results[0].content , search_results[0].score"
      ],
      "metadata": {
        "colab": {
          "base_uri": "https://localhost:8080/"
        },
        "id": "03Bc1CoxY97F",
        "outputId": "d977a3f4-5c57-4173-c5fa-557a33057824"
      },
      "execution_count": 35,
      "outputs": [
        {
          "output_type": "execute_result",
          "data": {
            "text/plain": [
              "('riyadh air is a world-class airline owned by the public investment fund (pif). launched in march 2023 and hubbed in the capital of the kingdom, the airline will be a digitally-led, full service airline that adopts the best global sustainability and safety practices across its advanced fleet of aircraft. riyadh air will equip its aircrafts with the most advanced, state-of-the-art features with innovative, best-in-class cabin interiors and experiences, including next generation digital in-flight entertainment systems and connectivity solutions. riyadh air will connect guests to over 100 destinations around the world by 2030 through offering an exceptional guest experience with an authentic, warm saudi hospitality at its heart.',\n",
              " None)"
            ]
          },
          "metadata": {},
          "execution_count": 35
        }
      ]
    },
    {
      "cell_type": "markdown",
      "source": [
        "# using BM25Retriever from hatstack"
      ],
      "metadata": {
        "id": "_hZpENVaa6dC"
      }
    },
    {
      "cell_type": "code",
      "source": [
        "retriever = BM25Retriever (document_store=document_store)"
      ],
      "metadata": {
        "id": "jZxxx-OUalAX"
      },
      "execution_count": 36,
      "outputs": []
    },
    {
      "cell_type": "code",
      "source": [
        "def search_companies_haystack(query, top_n=3):\n",
        "    results = retriever.retrieve(query=query, top_k=top_n)\n",
        "    return results\n",
        "\n",
        "search_results = search_companies_haystack(\"when was riyadh air lunched?\", top_n=3)\n",
        "search_results"
      ],
      "metadata": {
        "colab": {
          "base_uri": "https://localhost:8080/"
        },
        "id": "WJsnRk7dbBsi",
        "outputId": "5a6d3afb-b99c-4819-e1d9-42b279a50404"
      },
      "execution_count": 37,
      "outputs": [
        {
          "output_type": "execute_result",
          "data": {
            "text/plain": [
              "[<Document: {'content': 'riyadh air is a world-class airline owned by the public investment fund (pif). launched in march 2023 and hubbed in the capital of the kingdom, the airline will be a digitally-led, full service airline that adopts the best global sustainability and safety practices across its advanced fleet of aircraft. riyadh air will equip its aircrafts with the most advanced, state-of-the-art features with innovative, best-in-class cabin interiors and experiences, including next generation digital in-flight entertainment systems and connectivity solutions. riyadh air will connect guests to over 100 destinations around the world by 2030 through offering an exceptional guest experience with an authentic, warm saudi hospitality at its heart.', 'content_type': 'text', 'score': 0.778343414401467, 'meta': {'company_name': 'Riyadh Air', 'id': 12}, 'id_hash_keys': ['content'], 'embedding': None, 'id': '6fa8db4ccee9332a67808a7178293cd8'}>,\n",
              " <Document: {'content': \"boutique group, a hospitality company fully owned by the public investment fund (pif), develops and operates historic & cultural palaces into ultra-luxury boutique hotels; to enrich the luxury hospitality experience in the kingdome. boutique group promotes saudi arabian heritage and culture through redefining the saudi legacy alluring and unique experiences for the global and local tourist, while preserving its heritage for future generations to come. in its core, boutique group delivers a unique ultra-luxury saudi experience through presenting saudi heritage in contemporary elegance, contributing in local economy and enhancing the kingdom's position as a leading cultural tourism destination.\\nboutique group’s core offering features several distinctive elements promoting saudi arabian culture and history and conveying a luxury experience. noteworthy aspects of the experience include the arrival, when guests are dropped off at the beautifully designed porte-cochère (traditional grand entrance) that reflects local architectural styles. throughout each property, critical historical elements of the building have been carefully preserved such as art galleries, stately civic spaces and peaceful gardens. dedicated butlers and protocol officers assigned to each guest ensure a personalized service. in addition to fine dining offerings featuring saudi arabian and regional- specific cuisine; each palace provides cultural and exhibition spaces, a boulevard gallery and green spaces decorated with art, sculptures and fountains. guests can enjoy an exclusive membership club, with access to bespoke services and restricted areas.\\nal hamra palace was built in the center of jeddah upon king faisal’s request in 1971 to transform it into a hospitality palace to host the kingdom’s guests. surveying the city’s corniche, the palace pays eloquent tribute to traditional arabic-islamic architecture with richly adorned arched gateways, slanted roofs with aqua-green tiles, and a striking façade crafted from riyadh stone.\\nthe red palace is located in the heart of old riyadh. it was the first building to be constructed of reinforced concrete. it got its name because of its unique reddish color. in 1957, it became the headquarters of the council of ministers for 30 years. the palace then became the headquarters of the board of grievances until 2002.\\nthe history of tuwaiq palace is interwoven with state receptions and festivals celebrating arts and culture, due to its strategic location in the diplomatic quarter (dq) in riyadh, on approximately 110,000 sqm of land area. the palace was awarded the prestigious aga khan award for its unique design that embraces the spirit of an oasis, blending in with its surrounding landscape.\", 'content_type': 'text', 'score': 0.6314523606931426, 'meta': {'company_name': 'BOUTIQUE GROUP', 'id': 23}, 'id_hash_keys': ['content'], 'embedding': None, 'id': 'd5fcacd24be266c0ed56b13ce603e73c'}>,\n",
              " <Document: {'content': 'saudi entertainment ventures (seven) was established in 2018 to create extraordinary opportunities for our kingdom through entertainment. we’re here to brighten our nation’s future, one smile at a time, by applying our expertise and imagination to build experiences that put the power of entertainment in everyone’s hands, every day.\\n\\nwhen it comes to offering, seven has handpicked its most recognizable global partners to build bespoke a world-class entertainment infrastructure in the kingdom. the new entertainment eco-system developed by seven will include 21 entertainment destinations located across 14 cities, supporting pif’s strategy to develop the local entertainment and tourism sectors.\\n\\n\\nthe 21-entertainment destinations are split into 3 different pillars:\\n1- entertainment complexes\\n2- water parks\\n3- adventure parks\\n\\nthe entertainment complexes have an average of 70% - 80% of attraction offerings (zones) and a 20% - 30% split across the retail and f&b part of the leasable area.\\n', 'content_type': 'text', 'score': 0.6154437309814556, 'meta': {'company_name': 'Saudi Entertainment Ventures (Seven)', 'id': 44}, 'id_hash_keys': ['content'], 'embedding': None, 'id': '78832e456bd155cedaa48df1e93c9347'}>]"
            ]
          },
          "metadata": {},
          "execution_count": 37
        }
      ]
    },
    {
      "cell_type": "code",
      "source": [],
      "metadata": {
        "id": "yzVkxGwYbFCg"
      },
      "execution_count": null,
      "outputs": []
    }
  ]
}