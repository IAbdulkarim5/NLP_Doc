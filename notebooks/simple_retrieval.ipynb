{
 "cells": [
  {
   "cell_type": "code",
   "execution_count": 1,
   "metadata": {},
   "outputs": [
    {
     "name": "stdout",
     "output_type": "stream",
     "text": [
      "                              Title  \\\n",
      "3       tasaru mobility investments   \n",
      "35                             jada   \n",
      "48  saudi jordanian investment fund   \n",
      "\n",
      "                                          Description  similarity_score  \n",
      "3   tasaru mobility investments investment gateway...          0.396096  \n",
      "35  jada created promote development thriving priv...          0.115275  \n",
      "48  saudi jordanian investment fund sjif limited p...          0.104289  \n"
     ]
    }
   ],
   "source": [
    "import pandas as pd\n",
    "import numpy as np\n",
    "import re\n",
    "from sklearn.feature_extraction.text import TfidfVectorizer\n",
    "\n",
    "# Load the dataset\n",
    "file_path = '../data/pif_companies_filtered.csv'\n",
    "df = pd.read_csv(file_path)\n",
    "\n",
    "# Function to clean text by removing special characters\n",
    "def clean_text(text):\n",
    "    if isinstance(text, str):\n",
    "        return re.sub(r'[^\\w\\s]', '', text).strip()\n",
    "    return text\n",
    "\n",
    "# Basic stopwords removal (no NLTK required)\n",
    "basic_stopwords = set([\n",
    "    \"a\", \"an\", \"and\", \"are\", \"as\", \"at\", \"be\", \"by\", \"for\", \"from\", \n",
    "    \"has\", \"he\", \"in\", \"is\", \"it\", \"its\", \"of\", \"on\", \"that\", \"the\", \n",
    "    \"to\", \"was\", \"were\", \"will\", \"with\"\n",
    "]) - {'company', 'group', 'investment', 'bank', 'development', 'saudi', 'international'}\n",
    "\n",
    "def process_text_no_nltk(text):\n",
    "    if isinstance(text, str):\n",
    "        words = text.split()\n",
    "        words = [word for word in words if word not in basic_stopwords]\n",
    "        return ' '.join(words)\n",
    "    return text\n",
    "\n",
    "# Clean and preprocess Title and Description\n",
    "df['Title'] = df['Title'].str.lower().apply(clean_text).apply(process_text_no_nltk)\n",
    "df['Description'] = df['Description'].str.lower().apply(clean_text).apply(process_text_no_nltk)\n",
    "\n",
    "# TF-IDF Vectorizer and Matrix\n",
    "vectorizer = TfidfVectorizer()\n",
    "tfidf_matrix = vectorizer.fit_transform(df['Description'])\n",
    "\n",
    "# Query Function\n",
    "def search_companies(query, top_n=5):\n",
    "    query_vec = vectorizer.transform([query.lower()])\n",
    "    similarity_scores = np.dot(query_vec, tfidf_matrix.T).toarray()[0]\n",
    "    top_indices = np.argsort(similarity_scores)[::-1][:top_n]\n",
    "    results = df.iloc[top_indices].copy()\n",
    "    results['similarity_score'] = similarity_scores[top_indices]\n",
    "    return results\n",
    "\n"
   ]
  },
  {
   "cell_type": "code",
   "execution_count": 5,
   "metadata": {},
   "outputs": [
    {
     "name": "stdout",
     "output_type": "stream",
     "text": [
      "                            Title  \\\n",
      "2                          ardara   \n",
      "6                         kayanee   \n",
      "74  saudi electricity company sec   \n",
      "\n",
      "                                          Description  similarity_score  \n",
      "2   ardara real estate developer owned public inve...          0.236493  \n",
      "6   kayanee public investment fund pif company aim...          0.190991  \n",
      "74  incorporated accordance council ministers mand...          0.107194  \n"
     ]
    }
   ],
   "source": [
    "# Example Query\n",
    "search_results = search_companies(\"WHAT IS ARDARA\", top_n=3)\n",
    "print(search_results)"
   ]
  }
 ],
 "metadata": {
  "kernelspec": {
   "display_name": "Python 3",
   "language": "python",
   "name": "python3"
  },
  "language_info": {
   "codemirror_mode": {
    "name": "ipython",
    "version": 3
   },
   "file_extension": ".py",
   "mimetype": "text/x-python",
   "name": "python",
   "nbconvert_exporter": "python",
   "pygments_lexer": "ipython3",
   "version": "3.12.0"
  }
 },
 "nbformat": 4,
 "nbformat_minor": 2
}
